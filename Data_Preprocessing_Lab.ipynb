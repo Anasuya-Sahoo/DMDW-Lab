{
  "nbformat": 4,
  "nbformat_minor": 0,
  "metadata": {
    "colab": {
      "name": "Data Preprocessing Lab",
      "provenance": [],
      "authorship_tag": "ABX9TyPujtBPa+Ncl431TLGQVfM2",
      "include_colab_link": true
    },
    "kernelspec": {
      "name": "python3",
      "display_name": "Python 3"
    }
  },
  "cells": [
    {
      "cell_type": "markdown",
      "metadata": {
        "id": "view-in-github",
        "colab_type": "text"
      },
      "source": [
        "<a href=\"https://colab.research.google.com/github/Anasuya-Sahoo/DMDW-Lab/blob/main/Data_Preprocessing_Lab.ipynb\" target=\"_parent\"><img src=\"https://colab.research.google.com/assets/colab-badge.svg\" alt=\"Open In Colab\"/></a>"
      ]
    },
    {
      "cell_type": "code",
      "metadata": {
        "id": "F77l5FuTm6yq",
        "outputId": "105449b9-ff29-451c-fe48-28ccfdfb7b5a",
        "colab": {
          "base_uri": "https://localhost:8080/",
          "height": 402
        }
      },
      "source": [
        "import pandas as pd\n",
        "link=\"https://raw.githubusercontent.com/Anasuya-Sahoo/DMDW-Lab/main/Toyota.csv\"\n",
        "df=pd.read_csv(link)\n",
        "df"
      ],
      "execution_count": 2,
      "outputs": [
        {
          "output_type": "execute_result",
          "data": {
            "text/html": [
              "<div>\n",
              "<style scoped>\n",
              "    .dataframe tbody tr th:only-of-type {\n",
              "        vertical-align: middle;\n",
              "    }\n",
              "\n",
              "    .dataframe tbody tr th {\n",
              "        vertical-align: top;\n",
              "    }\n",
              "\n",
              "    .dataframe thead th {\n",
              "        text-align: right;\n",
              "    }\n",
              "</style>\n",
              "<table border=\"1\" class=\"dataframe\">\n",
              "  <thead>\n",
              "    <tr style=\"text-align: right;\">\n",
              "      <th></th>\n",
              "      <th>Unnamed: 0</th>\n",
              "      <th>Price</th>\n",
              "      <th>Age</th>\n",
              "      <th>KM</th>\n",
              "      <th>FuelType</th>\n",
              "      <th>HP</th>\n",
              "      <th>MetColor</th>\n",
              "      <th>Automatic</th>\n",
              "      <th>CC</th>\n",
              "      <th>Doors</th>\n",
              "      <th>Weight</th>\n",
              "    </tr>\n",
              "  </thead>\n",
              "  <tbody>\n",
              "    <tr>\n",
              "      <th>0</th>\n",
              "      <td>0</td>\n",
              "      <td>13500</td>\n",
              "      <td>23.0</td>\n",
              "      <td>46986</td>\n",
              "      <td>Diesel</td>\n",
              "      <td>90</td>\n",
              "      <td>1.0</td>\n",
              "      <td>0</td>\n",
              "      <td>2000</td>\n",
              "      <td>three</td>\n",
              "      <td>1165</td>\n",
              "    </tr>\n",
              "    <tr>\n",
              "      <th>1</th>\n",
              "      <td>1</td>\n",
              "      <td>13750</td>\n",
              "      <td>23.0</td>\n",
              "      <td>72937</td>\n",
              "      <td>Diesel</td>\n",
              "      <td>90</td>\n",
              "      <td>1.0</td>\n",
              "      <td>0</td>\n",
              "      <td>2000</td>\n",
              "      <td>3</td>\n",
              "      <td>1165</td>\n",
              "    </tr>\n",
              "    <tr>\n",
              "      <th>2</th>\n",
              "      <td>2</td>\n",
              "      <td>13950</td>\n",
              "      <td>24.0</td>\n",
              "      <td>41711</td>\n",
              "      <td>Diesel</td>\n",
              "      <td>90</td>\n",
              "      <td>NaN</td>\n",
              "      <td>0</td>\n",
              "      <td>2000</td>\n",
              "      <td>3</td>\n",
              "      <td>1165</td>\n",
              "    </tr>\n",
              "    <tr>\n",
              "      <th>3</th>\n",
              "      <td>3</td>\n",
              "      <td>14950</td>\n",
              "      <td>26.0</td>\n",
              "      <td>48000</td>\n",
              "      <td>Diesel</td>\n",
              "      <td>90</td>\n",
              "      <td>0.0</td>\n",
              "      <td>0</td>\n",
              "      <td>2000</td>\n",
              "      <td>3</td>\n",
              "      <td>1165</td>\n",
              "    </tr>\n",
              "    <tr>\n",
              "      <th>4</th>\n",
              "      <td>4</td>\n",
              "      <td>13750</td>\n",
              "      <td>30.0</td>\n",
              "      <td>38500</td>\n",
              "      <td>Diesel</td>\n",
              "      <td>90</td>\n",
              "      <td>0.0</td>\n",
              "      <td>0</td>\n",
              "      <td>2000</td>\n",
              "      <td>3</td>\n",
              "      <td>1170</td>\n",
              "    </tr>\n",
              "    <tr>\n",
              "      <th>...</th>\n",
              "      <td>...</td>\n",
              "      <td>...</td>\n",
              "      <td>...</td>\n",
              "      <td>...</td>\n",
              "      <td>...</td>\n",
              "      <td>...</td>\n",
              "      <td>...</td>\n",
              "      <td>...</td>\n",
              "      <td>...</td>\n",
              "      <td>...</td>\n",
              "      <td>...</td>\n",
              "    </tr>\n",
              "    <tr>\n",
              "      <th>1431</th>\n",
              "      <td>1431</td>\n",
              "      <td>7500</td>\n",
              "      <td>NaN</td>\n",
              "      <td>20544</td>\n",
              "      <td>Petrol</td>\n",
              "      <td>86</td>\n",
              "      <td>1.0</td>\n",
              "      <td>0</td>\n",
              "      <td>1300</td>\n",
              "      <td>3</td>\n",
              "      <td>1025</td>\n",
              "    </tr>\n",
              "    <tr>\n",
              "      <th>1432</th>\n",
              "      <td>1432</td>\n",
              "      <td>10845</td>\n",
              "      <td>72.0</td>\n",
              "      <td>??</td>\n",
              "      <td>Petrol</td>\n",
              "      <td>86</td>\n",
              "      <td>0.0</td>\n",
              "      <td>0</td>\n",
              "      <td>1300</td>\n",
              "      <td>3</td>\n",
              "      <td>1015</td>\n",
              "    </tr>\n",
              "    <tr>\n",
              "      <th>1433</th>\n",
              "      <td>1433</td>\n",
              "      <td>8500</td>\n",
              "      <td>NaN</td>\n",
              "      <td>17016</td>\n",
              "      <td>Petrol</td>\n",
              "      <td>86</td>\n",
              "      <td>0.0</td>\n",
              "      <td>0</td>\n",
              "      <td>1300</td>\n",
              "      <td>3</td>\n",
              "      <td>1015</td>\n",
              "    </tr>\n",
              "    <tr>\n",
              "      <th>1434</th>\n",
              "      <td>1434</td>\n",
              "      <td>7250</td>\n",
              "      <td>70.0</td>\n",
              "      <td>??</td>\n",
              "      <td>NaN</td>\n",
              "      <td>86</td>\n",
              "      <td>1.0</td>\n",
              "      <td>0</td>\n",
              "      <td>1300</td>\n",
              "      <td>3</td>\n",
              "      <td>1015</td>\n",
              "    </tr>\n",
              "    <tr>\n",
              "      <th>1435</th>\n",
              "      <td>1435</td>\n",
              "      <td>6950</td>\n",
              "      <td>76.0</td>\n",
              "      <td>1</td>\n",
              "      <td>Petrol</td>\n",
              "      <td>110</td>\n",
              "      <td>0.0</td>\n",
              "      <td>0</td>\n",
              "      <td>1600</td>\n",
              "      <td>5</td>\n",
              "      <td>1114</td>\n",
              "    </tr>\n",
              "  </tbody>\n",
              "</table>\n",
              "<p>1436 rows × 11 columns</p>\n",
              "</div>"
            ],
            "text/plain": [
              "      Unnamed: 0  Price   Age     KM  ... Automatic    CC  Doors  Weight\n",
              "0              0  13500  23.0  46986  ...         0  2000  three    1165\n",
              "1              1  13750  23.0  72937  ...         0  2000      3    1165\n",
              "2              2  13950  24.0  41711  ...         0  2000      3    1165\n",
              "3              3  14950  26.0  48000  ...         0  2000      3    1165\n",
              "4              4  13750  30.0  38500  ...         0  2000      3    1170\n",
              "...          ...    ...   ...    ...  ...       ...   ...    ...     ...\n",
              "1431        1431   7500   NaN  20544  ...         0  1300      3    1025\n",
              "1432        1432  10845  72.0     ??  ...         0  1300      3    1015\n",
              "1433        1433   8500   NaN  17016  ...         0  1300      3    1015\n",
              "1434        1434   7250  70.0     ??  ...         0  1300      3    1015\n",
              "1435        1435   6950  76.0      1  ...         0  1600      5    1114\n",
              "\n",
              "[1436 rows x 11 columns]"
            ]
          },
          "metadata": {
            "tags": []
          },
          "execution_count": 2
        }
      ]
    },
    {
      "cell_type": "code",
      "metadata": {
        "id": "gCPaUaCyn7in",
        "outputId": "d2559f0a-522e-4524-b09d-1ac615d627e7",
        "colab": {
          "base_uri": "https://localhost:8080/"
        }
      },
      "source": [
        "type(df)"
      ],
      "execution_count": 3,
      "outputs": [
        {
          "output_type": "execute_result",
          "data": {
            "text/plain": [
              "pandas.core.frame.DataFrame"
            ]
          },
          "metadata": {
            "tags": []
          },
          "execution_count": 3
        }
      ]
    },
    {
      "cell_type": "code",
      "metadata": {
        "id": "qr3uuAvtoG-5",
        "outputId": "b9323502-1363-4be4-cd9b-e4f3fd02d7f7",
        "colab": {
          "base_uri": "https://localhost:8080/"
        }
      },
      "source": [
        "df.shape"
      ],
      "execution_count": 4,
      "outputs": [
        {
          "output_type": "execute_result",
          "data": {
            "text/plain": [
              "(1436, 11)"
            ]
          },
          "metadata": {
            "tags": []
          },
          "execution_count": 4
        }
      ]
    },
    {
      "cell_type": "code",
      "metadata": {
        "id": "0rTDJmBUogMU",
        "outputId": "23d5611d-bbf7-46f8-d841-25917c3cb043",
        "colab": {
          "base_uri": "https://localhost:8080/"
        }
      },
      "source": [
        "df.info()"
      ],
      "execution_count": 5,
      "outputs": [
        {
          "output_type": "stream",
          "text": [
            "<class 'pandas.core.frame.DataFrame'>\n",
            "RangeIndex: 1436 entries, 0 to 1435\n",
            "Data columns (total 11 columns):\n",
            " #   Column      Non-Null Count  Dtype  \n",
            "---  ------      --------------  -----  \n",
            " 0   Unnamed: 0  1436 non-null   int64  \n",
            " 1   Price       1436 non-null   int64  \n",
            " 2   Age         1336 non-null   float64\n",
            " 3   KM          1436 non-null   object \n",
            " 4   FuelType    1336 non-null   object \n",
            " 5   HP          1436 non-null   object \n",
            " 6   MetColor    1286 non-null   float64\n",
            " 7   Automatic   1436 non-null   int64  \n",
            " 8   CC          1436 non-null   int64  \n",
            " 9   Doors       1436 non-null   object \n",
            " 10  Weight      1436 non-null   int64  \n",
            "dtypes: float64(2), int64(5), object(4)\n",
            "memory usage: 123.5+ KB\n"
          ],
          "name": "stdout"
        }
      ]
    },
    {
      "cell_type": "code",
      "metadata": {
        "id": "6_kDLJvRpBjp",
        "outputId": "bd3a4e31-f23b-4c49-d118-f00f1c832d0b",
        "colab": {
          "base_uri": "https://localhost:8080/",
          "height": 195
        }
      },
      "source": [
        "df.head()"
      ],
      "execution_count": 6,
      "outputs": [
        {
          "output_type": "execute_result",
          "data": {
            "text/html": [
              "<div>\n",
              "<style scoped>\n",
              "    .dataframe tbody tr th:only-of-type {\n",
              "        vertical-align: middle;\n",
              "    }\n",
              "\n",
              "    .dataframe tbody tr th {\n",
              "        vertical-align: top;\n",
              "    }\n",
              "\n",
              "    .dataframe thead th {\n",
              "        text-align: right;\n",
              "    }\n",
              "</style>\n",
              "<table border=\"1\" class=\"dataframe\">\n",
              "  <thead>\n",
              "    <tr style=\"text-align: right;\">\n",
              "      <th></th>\n",
              "      <th>Unnamed: 0</th>\n",
              "      <th>Price</th>\n",
              "      <th>Age</th>\n",
              "      <th>KM</th>\n",
              "      <th>FuelType</th>\n",
              "      <th>HP</th>\n",
              "      <th>MetColor</th>\n",
              "      <th>Automatic</th>\n",
              "      <th>CC</th>\n",
              "      <th>Doors</th>\n",
              "      <th>Weight</th>\n",
              "    </tr>\n",
              "  </thead>\n",
              "  <tbody>\n",
              "    <tr>\n",
              "      <th>0</th>\n",
              "      <td>0</td>\n",
              "      <td>13500</td>\n",
              "      <td>23.0</td>\n",
              "      <td>46986</td>\n",
              "      <td>Diesel</td>\n",
              "      <td>90</td>\n",
              "      <td>1.0</td>\n",
              "      <td>0</td>\n",
              "      <td>2000</td>\n",
              "      <td>three</td>\n",
              "      <td>1165</td>\n",
              "    </tr>\n",
              "    <tr>\n",
              "      <th>1</th>\n",
              "      <td>1</td>\n",
              "      <td>13750</td>\n",
              "      <td>23.0</td>\n",
              "      <td>72937</td>\n",
              "      <td>Diesel</td>\n",
              "      <td>90</td>\n",
              "      <td>1.0</td>\n",
              "      <td>0</td>\n",
              "      <td>2000</td>\n",
              "      <td>3</td>\n",
              "      <td>1165</td>\n",
              "    </tr>\n",
              "    <tr>\n",
              "      <th>2</th>\n",
              "      <td>2</td>\n",
              "      <td>13950</td>\n",
              "      <td>24.0</td>\n",
              "      <td>41711</td>\n",
              "      <td>Diesel</td>\n",
              "      <td>90</td>\n",
              "      <td>NaN</td>\n",
              "      <td>0</td>\n",
              "      <td>2000</td>\n",
              "      <td>3</td>\n",
              "      <td>1165</td>\n",
              "    </tr>\n",
              "    <tr>\n",
              "      <th>3</th>\n",
              "      <td>3</td>\n",
              "      <td>14950</td>\n",
              "      <td>26.0</td>\n",
              "      <td>48000</td>\n",
              "      <td>Diesel</td>\n",
              "      <td>90</td>\n",
              "      <td>0.0</td>\n",
              "      <td>0</td>\n",
              "      <td>2000</td>\n",
              "      <td>3</td>\n",
              "      <td>1165</td>\n",
              "    </tr>\n",
              "    <tr>\n",
              "      <th>4</th>\n",
              "      <td>4</td>\n",
              "      <td>13750</td>\n",
              "      <td>30.0</td>\n",
              "      <td>38500</td>\n",
              "      <td>Diesel</td>\n",
              "      <td>90</td>\n",
              "      <td>0.0</td>\n",
              "      <td>0</td>\n",
              "      <td>2000</td>\n",
              "      <td>3</td>\n",
              "      <td>1170</td>\n",
              "    </tr>\n",
              "  </tbody>\n",
              "</table>\n",
              "</div>"
            ],
            "text/plain": [
              "   Unnamed: 0  Price   Age     KM  ... Automatic    CC  Doors  Weight\n",
              "0           0  13500  23.0  46986  ...         0  2000  three    1165\n",
              "1           1  13750  23.0  72937  ...         0  2000      3    1165\n",
              "2           2  13950  24.0  41711  ...         0  2000      3    1165\n",
              "3           3  14950  26.0  48000  ...         0  2000      3    1165\n",
              "4           4  13750  30.0  38500  ...         0  2000      3    1170\n",
              "\n",
              "[5 rows x 11 columns]"
            ]
          },
          "metadata": {
            "tags": []
          },
          "execution_count": 6
        }
      ]
    },
    {
      "cell_type": "code",
      "metadata": {
        "id": "edBinAQhpejd",
        "outputId": "e3450c0d-4661-4eca-eedd-5225f1fcc54d",
        "colab": {
          "base_uri": "https://localhost:8080/",
          "height": 343
        }
      },
      "source": [
        "df.head(10)"
      ],
      "execution_count": 7,
      "outputs": [
        {
          "output_type": "execute_result",
          "data": {
            "text/html": [
              "<div>\n",
              "<style scoped>\n",
              "    .dataframe tbody tr th:only-of-type {\n",
              "        vertical-align: middle;\n",
              "    }\n",
              "\n",
              "    .dataframe tbody tr th {\n",
              "        vertical-align: top;\n",
              "    }\n",
              "\n",
              "    .dataframe thead th {\n",
              "        text-align: right;\n",
              "    }\n",
              "</style>\n",
              "<table border=\"1\" class=\"dataframe\">\n",
              "  <thead>\n",
              "    <tr style=\"text-align: right;\">\n",
              "      <th></th>\n",
              "      <th>Unnamed: 0</th>\n",
              "      <th>Price</th>\n",
              "      <th>Age</th>\n",
              "      <th>KM</th>\n",
              "      <th>FuelType</th>\n",
              "      <th>HP</th>\n",
              "      <th>MetColor</th>\n",
              "      <th>Automatic</th>\n",
              "      <th>CC</th>\n",
              "      <th>Doors</th>\n",
              "      <th>Weight</th>\n",
              "    </tr>\n",
              "  </thead>\n",
              "  <tbody>\n",
              "    <tr>\n",
              "      <th>0</th>\n",
              "      <td>0</td>\n",
              "      <td>13500</td>\n",
              "      <td>23.0</td>\n",
              "      <td>46986</td>\n",
              "      <td>Diesel</td>\n",
              "      <td>90</td>\n",
              "      <td>1.0</td>\n",
              "      <td>0</td>\n",
              "      <td>2000</td>\n",
              "      <td>three</td>\n",
              "      <td>1165</td>\n",
              "    </tr>\n",
              "    <tr>\n",
              "      <th>1</th>\n",
              "      <td>1</td>\n",
              "      <td>13750</td>\n",
              "      <td>23.0</td>\n",
              "      <td>72937</td>\n",
              "      <td>Diesel</td>\n",
              "      <td>90</td>\n",
              "      <td>1.0</td>\n",
              "      <td>0</td>\n",
              "      <td>2000</td>\n",
              "      <td>3</td>\n",
              "      <td>1165</td>\n",
              "    </tr>\n",
              "    <tr>\n",
              "      <th>2</th>\n",
              "      <td>2</td>\n",
              "      <td>13950</td>\n",
              "      <td>24.0</td>\n",
              "      <td>41711</td>\n",
              "      <td>Diesel</td>\n",
              "      <td>90</td>\n",
              "      <td>NaN</td>\n",
              "      <td>0</td>\n",
              "      <td>2000</td>\n",
              "      <td>3</td>\n",
              "      <td>1165</td>\n",
              "    </tr>\n",
              "    <tr>\n",
              "      <th>3</th>\n",
              "      <td>3</td>\n",
              "      <td>14950</td>\n",
              "      <td>26.0</td>\n",
              "      <td>48000</td>\n",
              "      <td>Diesel</td>\n",
              "      <td>90</td>\n",
              "      <td>0.0</td>\n",
              "      <td>0</td>\n",
              "      <td>2000</td>\n",
              "      <td>3</td>\n",
              "      <td>1165</td>\n",
              "    </tr>\n",
              "    <tr>\n",
              "      <th>4</th>\n",
              "      <td>4</td>\n",
              "      <td>13750</td>\n",
              "      <td>30.0</td>\n",
              "      <td>38500</td>\n",
              "      <td>Diesel</td>\n",
              "      <td>90</td>\n",
              "      <td>0.0</td>\n",
              "      <td>0</td>\n",
              "      <td>2000</td>\n",
              "      <td>3</td>\n",
              "      <td>1170</td>\n",
              "    </tr>\n",
              "    <tr>\n",
              "      <th>5</th>\n",
              "      <td>5</td>\n",
              "      <td>12950</td>\n",
              "      <td>32.0</td>\n",
              "      <td>61000</td>\n",
              "      <td>Diesel</td>\n",
              "      <td>90</td>\n",
              "      <td>0.0</td>\n",
              "      <td>0</td>\n",
              "      <td>2000</td>\n",
              "      <td>3</td>\n",
              "      <td>1170</td>\n",
              "    </tr>\n",
              "    <tr>\n",
              "      <th>6</th>\n",
              "      <td>6</td>\n",
              "      <td>16900</td>\n",
              "      <td>27.0</td>\n",
              "      <td>??</td>\n",
              "      <td>Diesel</td>\n",
              "      <td>????</td>\n",
              "      <td>NaN</td>\n",
              "      <td>0</td>\n",
              "      <td>2000</td>\n",
              "      <td>3</td>\n",
              "      <td>1245</td>\n",
              "    </tr>\n",
              "    <tr>\n",
              "      <th>7</th>\n",
              "      <td>7</td>\n",
              "      <td>18600</td>\n",
              "      <td>30.0</td>\n",
              "      <td>75889</td>\n",
              "      <td>NaN</td>\n",
              "      <td>90</td>\n",
              "      <td>1.0</td>\n",
              "      <td>0</td>\n",
              "      <td>2000</td>\n",
              "      <td>3</td>\n",
              "      <td>1245</td>\n",
              "    </tr>\n",
              "    <tr>\n",
              "      <th>8</th>\n",
              "      <td>8</td>\n",
              "      <td>21500</td>\n",
              "      <td>27.0</td>\n",
              "      <td>19700</td>\n",
              "      <td>Petrol</td>\n",
              "      <td>192</td>\n",
              "      <td>0.0</td>\n",
              "      <td>0</td>\n",
              "      <td>1800</td>\n",
              "      <td>3</td>\n",
              "      <td>1185</td>\n",
              "    </tr>\n",
              "    <tr>\n",
              "      <th>9</th>\n",
              "      <td>9</td>\n",
              "      <td>12950</td>\n",
              "      <td>23.0</td>\n",
              "      <td>71138</td>\n",
              "      <td>Diesel</td>\n",
              "      <td>????</td>\n",
              "      <td>NaN</td>\n",
              "      <td>0</td>\n",
              "      <td>1900</td>\n",
              "      <td>3</td>\n",
              "      <td>1105</td>\n",
              "    </tr>\n",
              "  </tbody>\n",
              "</table>\n",
              "</div>"
            ],
            "text/plain": [
              "   Unnamed: 0  Price   Age     KM  ... Automatic    CC  Doors  Weight\n",
              "0           0  13500  23.0  46986  ...         0  2000  three    1165\n",
              "1           1  13750  23.0  72937  ...         0  2000      3    1165\n",
              "2           2  13950  24.0  41711  ...         0  2000      3    1165\n",
              "3           3  14950  26.0  48000  ...         0  2000      3    1165\n",
              "4           4  13750  30.0  38500  ...         0  2000      3    1170\n",
              "5           5  12950  32.0  61000  ...         0  2000      3    1170\n",
              "6           6  16900  27.0     ??  ...         0  2000      3    1245\n",
              "7           7  18600  30.0  75889  ...         0  2000      3    1245\n",
              "8           8  21500  27.0  19700  ...         0  1800      3    1185\n",
              "9           9  12950  23.0  71138  ...         0  1900      3    1105\n",
              "\n",
              "[10 rows x 11 columns]"
            ]
          },
          "metadata": {
            "tags": []
          },
          "execution_count": 7
        }
      ]
    },
    {
      "cell_type": "code",
      "metadata": {
        "id": "cXZnRbSFplTt",
        "outputId": "37097c59-1bf5-49ac-c599-f313c16332cc",
        "colab": {
          "base_uri": "https://localhost:8080/",
          "height": 195
        }
      },
      "source": [
        "df.tail()"
      ],
      "execution_count": 8,
      "outputs": [
        {
          "output_type": "execute_result",
          "data": {
            "text/html": [
              "<div>\n",
              "<style scoped>\n",
              "    .dataframe tbody tr th:only-of-type {\n",
              "        vertical-align: middle;\n",
              "    }\n",
              "\n",
              "    .dataframe tbody tr th {\n",
              "        vertical-align: top;\n",
              "    }\n",
              "\n",
              "    .dataframe thead th {\n",
              "        text-align: right;\n",
              "    }\n",
              "</style>\n",
              "<table border=\"1\" class=\"dataframe\">\n",
              "  <thead>\n",
              "    <tr style=\"text-align: right;\">\n",
              "      <th></th>\n",
              "      <th>Unnamed: 0</th>\n",
              "      <th>Price</th>\n",
              "      <th>Age</th>\n",
              "      <th>KM</th>\n",
              "      <th>FuelType</th>\n",
              "      <th>HP</th>\n",
              "      <th>MetColor</th>\n",
              "      <th>Automatic</th>\n",
              "      <th>CC</th>\n",
              "      <th>Doors</th>\n",
              "      <th>Weight</th>\n",
              "    </tr>\n",
              "  </thead>\n",
              "  <tbody>\n",
              "    <tr>\n",
              "      <th>1431</th>\n",
              "      <td>1431</td>\n",
              "      <td>7500</td>\n",
              "      <td>NaN</td>\n",
              "      <td>20544</td>\n",
              "      <td>Petrol</td>\n",
              "      <td>86</td>\n",
              "      <td>1.0</td>\n",
              "      <td>0</td>\n",
              "      <td>1300</td>\n",
              "      <td>3</td>\n",
              "      <td>1025</td>\n",
              "    </tr>\n",
              "    <tr>\n",
              "      <th>1432</th>\n",
              "      <td>1432</td>\n",
              "      <td>10845</td>\n",
              "      <td>72.0</td>\n",
              "      <td>??</td>\n",
              "      <td>Petrol</td>\n",
              "      <td>86</td>\n",
              "      <td>0.0</td>\n",
              "      <td>0</td>\n",
              "      <td>1300</td>\n",
              "      <td>3</td>\n",
              "      <td>1015</td>\n",
              "    </tr>\n",
              "    <tr>\n",
              "      <th>1433</th>\n",
              "      <td>1433</td>\n",
              "      <td>8500</td>\n",
              "      <td>NaN</td>\n",
              "      <td>17016</td>\n",
              "      <td>Petrol</td>\n",
              "      <td>86</td>\n",
              "      <td>0.0</td>\n",
              "      <td>0</td>\n",
              "      <td>1300</td>\n",
              "      <td>3</td>\n",
              "      <td>1015</td>\n",
              "    </tr>\n",
              "    <tr>\n",
              "      <th>1434</th>\n",
              "      <td>1434</td>\n",
              "      <td>7250</td>\n",
              "      <td>70.0</td>\n",
              "      <td>??</td>\n",
              "      <td>NaN</td>\n",
              "      <td>86</td>\n",
              "      <td>1.0</td>\n",
              "      <td>0</td>\n",
              "      <td>1300</td>\n",
              "      <td>3</td>\n",
              "      <td>1015</td>\n",
              "    </tr>\n",
              "    <tr>\n",
              "      <th>1435</th>\n",
              "      <td>1435</td>\n",
              "      <td>6950</td>\n",
              "      <td>76.0</td>\n",
              "      <td>1</td>\n",
              "      <td>Petrol</td>\n",
              "      <td>110</td>\n",
              "      <td>0.0</td>\n",
              "      <td>0</td>\n",
              "      <td>1600</td>\n",
              "      <td>5</td>\n",
              "      <td>1114</td>\n",
              "    </tr>\n",
              "  </tbody>\n",
              "</table>\n",
              "</div>"
            ],
            "text/plain": [
              "      Unnamed: 0  Price   Age     KM  ... Automatic    CC  Doors  Weight\n",
              "1431        1431   7500   NaN  20544  ...         0  1300      3    1025\n",
              "1432        1432  10845  72.0     ??  ...         0  1300      3    1015\n",
              "1433        1433   8500   NaN  17016  ...         0  1300      3    1015\n",
              "1434        1434   7250  70.0     ??  ...         0  1300      3    1015\n",
              "1435        1435   6950  76.0      1  ...         0  1600      5    1114\n",
              "\n",
              "[5 rows x 11 columns]"
            ]
          },
          "metadata": {
            "tags": []
          },
          "execution_count": 8
        }
      ]
    },
    {
      "cell_type": "code",
      "metadata": {
        "id": "JvcdMcaLpsvX",
        "outputId": "92668c70-f7ac-4f3e-f79e-2d5227fca375",
        "colab": {
          "base_uri": "https://localhost:8080/",
          "height": 373
        }
      },
      "source": [
        "df.loc[:10,['Price','Age']]"
      ],
      "execution_count": 11,
      "outputs": [
        {
          "output_type": "execute_result",
          "data": {
            "text/html": [
              "<div>\n",
              "<style scoped>\n",
              "    .dataframe tbody tr th:only-of-type {\n",
              "        vertical-align: middle;\n",
              "    }\n",
              "\n",
              "    .dataframe tbody tr th {\n",
              "        vertical-align: top;\n",
              "    }\n",
              "\n",
              "    .dataframe thead th {\n",
              "        text-align: right;\n",
              "    }\n",
              "</style>\n",
              "<table border=\"1\" class=\"dataframe\">\n",
              "  <thead>\n",
              "    <tr style=\"text-align: right;\">\n",
              "      <th></th>\n",
              "      <th>Price</th>\n",
              "      <th>Age</th>\n",
              "    </tr>\n",
              "  </thead>\n",
              "  <tbody>\n",
              "    <tr>\n",
              "      <th>0</th>\n",
              "      <td>13500</td>\n",
              "      <td>23.0</td>\n",
              "    </tr>\n",
              "    <tr>\n",
              "      <th>1</th>\n",
              "      <td>13750</td>\n",
              "      <td>23.0</td>\n",
              "    </tr>\n",
              "    <tr>\n",
              "      <th>2</th>\n",
              "      <td>13950</td>\n",
              "      <td>24.0</td>\n",
              "    </tr>\n",
              "    <tr>\n",
              "      <th>3</th>\n",
              "      <td>14950</td>\n",
              "      <td>26.0</td>\n",
              "    </tr>\n",
              "    <tr>\n",
              "      <th>4</th>\n",
              "      <td>13750</td>\n",
              "      <td>30.0</td>\n",
              "    </tr>\n",
              "    <tr>\n",
              "      <th>5</th>\n",
              "      <td>12950</td>\n",
              "      <td>32.0</td>\n",
              "    </tr>\n",
              "    <tr>\n",
              "      <th>6</th>\n",
              "      <td>16900</td>\n",
              "      <td>27.0</td>\n",
              "    </tr>\n",
              "    <tr>\n",
              "      <th>7</th>\n",
              "      <td>18600</td>\n",
              "      <td>30.0</td>\n",
              "    </tr>\n",
              "    <tr>\n",
              "      <th>8</th>\n",
              "      <td>21500</td>\n",
              "      <td>27.0</td>\n",
              "    </tr>\n",
              "    <tr>\n",
              "      <th>9</th>\n",
              "      <td>12950</td>\n",
              "      <td>23.0</td>\n",
              "    </tr>\n",
              "    <tr>\n",
              "      <th>10</th>\n",
              "      <td>20950</td>\n",
              "      <td>25.0</td>\n",
              "    </tr>\n",
              "  </tbody>\n",
              "</table>\n",
              "</div>"
            ],
            "text/plain": [
              "    Price   Age\n",
              "0   13500  23.0\n",
              "1   13750  23.0\n",
              "2   13950  24.0\n",
              "3   14950  26.0\n",
              "4   13750  30.0\n",
              "5   12950  32.0\n",
              "6   16900  27.0\n",
              "7   18600  30.0\n",
              "8   21500  27.0\n",
              "9   12950  23.0\n",
              "10  20950  25.0"
            ]
          },
          "metadata": {
            "tags": []
          },
          "execution_count": 11
        }
      ]
    },
    {
      "cell_type": "code",
      "metadata": {
        "id": "5gcqTItAqkTL",
        "outputId": "6a19e9d5-63eb-4e91-a7a1-bb4d9c4017e1",
        "colab": {
          "base_uri": "https://localhost:8080/",
          "height": 343
        }
      },
      "source": [
        "df[['Price','Age']].head(10)"
      ],
      "execution_count": 13,
      "outputs": [
        {
          "output_type": "execute_result",
          "data": {
            "text/html": [
              "<div>\n",
              "<style scoped>\n",
              "    .dataframe tbody tr th:only-of-type {\n",
              "        vertical-align: middle;\n",
              "    }\n",
              "\n",
              "    .dataframe tbody tr th {\n",
              "        vertical-align: top;\n",
              "    }\n",
              "\n",
              "    .dataframe thead th {\n",
              "        text-align: right;\n",
              "    }\n",
              "</style>\n",
              "<table border=\"1\" class=\"dataframe\">\n",
              "  <thead>\n",
              "    <tr style=\"text-align: right;\">\n",
              "      <th></th>\n",
              "      <th>Price</th>\n",
              "      <th>Age</th>\n",
              "    </tr>\n",
              "  </thead>\n",
              "  <tbody>\n",
              "    <tr>\n",
              "      <th>0</th>\n",
              "      <td>13500</td>\n",
              "      <td>23.0</td>\n",
              "    </tr>\n",
              "    <tr>\n",
              "      <th>1</th>\n",
              "      <td>13750</td>\n",
              "      <td>23.0</td>\n",
              "    </tr>\n",
              "    <tr>\n",
              "      <th>2</th>\n",
              "      <td>13950</td>\n",
              "      <td>24.0</td>\n",
              "    </tr>\n",
              "    <tr>\n",
              "      <th>3</th>\n",
              "      <td>14950</td>\n",
              "      <td>26.0</td>\n",
              "    </tr>\n",
              "    <tr>\n",
              "      <th>4</th>\n",
              "      <td>13750</td>\n",
              "      <td>30.0</td>\n",
              "    </tr>\n",
              "    <tr>\n",
              "      <th>5</th>\n",
              "      <td>12950</td>\n",
              "      <td>32.0</td>\n",
              "    </tr>\n",
              "    <tr>\n",
              "      <th>6</th>\n",
              "      <td>16900</td>\n",
              "      <td>27.0</td>\n",
              "    </tr>\n",
              "    <tr>\n",
              "      <th>7</th>\n",
              "      <td>18600</td>\n",
              "      <td>30.0</td>\n",
              "    </tr>\n",
              "    <tr>\n",
              "      <th>8</th>\n",
              "      <td>21500</td>\n",
              "      <td>27.0</td>\n",
              "    </tr>\n",
              "    <tr>\n",
              "      <th>9</th>\n",
              "      <td>12950</td>\n",
              "      <td>23.0</td>\n",
              "    </tr>\n",
              "  </tbody>\n",
              "</table>\n",
              "</div>"
            ],
            "text/plain": [
              "   Price   Age\n",
              "0  13500  23.0\n",
              "1  13750  23.0\n",
              "2  13950  24.0\n",
              "3  14950  26.0\n",
              "4  13750  30.0\n",
              "5  12950  32.0\n",
              "6  16900  27.0\n",
              "7  18600  30.0\n",
              "8  21500  27.0\n",
              "9  12950  23.0"
            ]
          },
          "metadata": {
            "tags": []
          },
          "execution_count": 13
        }
      ]
    },
    {
      "cell_type": "markdown",
      "metadata": {
        "id": "_uNcgb5-rH-o"
      },
      "source": [
        "#Working with NULL values"
      ]
    },
    {
      "cell_type": "code",
      "metadata": {
        "id": "qYhyEugorK7f",
        "outputId": "19f1ebe6-fcd6-467c-cccb-a40a998789f4",
        "colab": {
          "base_uri": "https://localhost:8080/"
        }
      },
      "source": [
        "df.isnull().sum()"
      ],
      "execution_count": 14,
      "outputs": [
        {
          "output_type": "execute_result",
          "data": {
            "text/plain": [
              "Unnamed: 0      0\n",
              "Price           0\n",
              "Age           100\n",
              "KM              0\n",
              "FuelType      100\n",
              "HP              0\n",
              "MetColor      150\n",
              "Automatic       0\n",
              "CC              0\n",
              "Doors           0\n",
              "Weight          0\n",
              "dtype: int64"
            ]
          },
          "metadata": {
            "tags": []
          },
          "execution_count": 14
        }
      ]
    },
    {
      "cell_type": "code",
      "metadata": {
        "id": "1NtuuHs8rmfG",
        "outputId": "fc2a8a41-6219-4195-e9a3-f8cc4b2e1eae",
        "colab": {
          "base_uri": "https://localhost:8080/",
          "height": 402
        }
      },
      "source": [
        "df.isnull()"
      ],
      "execution_count": 15,
      "outputs": [
        {
          "output_type": "execute_result",
          "data": {
            "text/html": [
              "<div>\n",
              "<style scoped>\n",
              "    .dataframe tbody tr th:only-of-type {\n",
              "        vertical-align: middle;\n",
              "    }\n",
              "\n",
              "    .dataframe tbody tr th {\n",
              "        vertical-align: top;\n",
              "    }\n",
              "\n",
              "    .dataframe thead th {\n",
              "        text-align: right;\n",
              "    }\n",
              "</style>\n",
              "<table border=\"1\" class=\"dataframe\">\n",
              "  <thead>\n",
              "    <tr style=\"text-align: right;\">\n",
              "      <th></th>\n",
              "      <th>Unnamed: 0</th>\n",
              "      <th>Price</th>\n",
              "      <th>Age</th>\n",
              "      <th>KM</th>\n",
              "      <th>FuelType</th>\n",
              "      <th>HP</th>\n",
              "      <th>MetColor</th>\n",
              "      <th>Automatic</th>\n",
              "      <th>CC</th>\n",
              "      <th>Doors</th>\n",
              "      <th>Weight</th>\n",
              "    </tr>\n",
              "  </thead>\n",
              "  <tbody>\n",
              "    <tr>\n",
              "      <th>0</th>\n",
              "      <td>False</td>\n",
              "      <td>False</td>\n",
              "      <td>False</td>\n",
              "      <td>False</td>\n",
              "      <td>False</td>\n",
              "      <td>False</td>\n",
              "      <td>False</td>\n",
              "      <td>False</td>\n",
              "      <td>False</td>\n",
              "      <td>False</td>\n",
              "      <td>False</td>\n",
              "    </tr>\n",
              "    <tr>\n",
              "      <th>1</th>\n",
              "      <td>False</td>\n",
              "      <td>False</td>\n",
              "      <td>False</td>\n",
              "      <td>False</td>\n",
              "      <td>False</td>\n",
              "      <td>False</td>\n",
              "      <td>False</td>\n",
              "      <td>False</td>\n",
              "      <td>False</td>\n",
              "      <td>False</td>\n",
              "      <td>False</td>\n",
              "    </tr>\n",
              "    <tr>\n",
              "      <th>2</th>\n",
              "      <td>False</td>\n",
              "      <td>False</td>\n",
              "      <td>False</td>\n",
              "      <td>False</td>\n",
              "      <td>False</td>\n",
              "      <td>False</td>\n",
              "      <td>True</td>\n",
              "      <td>False</td>\n",
              "      <td>False</td>\n",
              "      <td>False</td>\n",
              "      <td>False</td>\n",
              "    </tr>\n",
              "    <tr>\n",
              "      <th>3</th>\n",
              "      <td>False</td>\n",
              "      <td>False</td>\n",
              "      <td>False</td>\n",
              "      <td>False</td>\n",
              "      <td>False</td>\n",
              "      <td>False</td>\n",
              "      <td>False</td>\n",
              "      <td>False</td>\n",
              "      <td>False</td>\n",
              "      <td>False</td>\n",
              "      <td>False</td>\n",
              "    </tr>\n",
              "    <tr>\n",
              "      <th>4</th>\n",
              "      <td>False</td>\n",
              "      <td>False</td>\n",
              "      <td>False</td>\n",
              "      <td>False</td>\n",
              "      <td>False</td>\n",
              "      <td>False</td>\n",
              "      <td>False</td>\n",
              "      <td>False</td>\n",
              "      <td>False</td>\n",
              "      <td>False</td>\n",
              "      <td>False</td>\n",
              "    </tr>\n",
              "    <tr>\n",
              "      <th>...</th>\n",
              "      <td>...</td>\n",
              "      <td>...</td>\n",
              "      <td>...</td>\n",
              "      <td>...</td>\n",
              "      <td>...</td>\n",
              "      <td>...</td>\n",
              "      <td>...</td>\n",
              "      <td>...</td>\n",
              "      <td>...</td>\n",
              "      <td>...</td>\n",
              "      <td>...</td>\n",
              "    </tr>\n",
              "    <tr>\n",
              "      <th>1431</th>\n",
              "      <td>False</td>\n",
              "      <td>False</td>\n",
              "      <td>True</td>\n",
              "      <td>False</td>\n",
              "      <td>False</td>\n",
              "      <td>False</td>\n",
              "      <td>False</td>\n",
              "      <td>False</td>\n",
              "      <td>False</td>\n",
              "      <td>False</td>\n",
              "      <td>False</td>\n",
              "    </tr>\n",
              "    <tr>\n",
              "      <th>1432</th>\n",
              "      <td>False</td>\n",
              "      <td>False</td>\n",
              "      <td>False</td>\n",
              "      <td>False</td>\n",
              "      <td>False</td>\n",
              "      <td>False</td>\n",
              "      <td>False</td>\n",
              "      <td>False</td>\n",
              "      <td>False</td>\n",
              "      <td>False</td>\n",
              "      <td>False</td>\n",
              "    </tr>\n",
              "    <tr>\n",
              "      <th>1433</th>\n",
              "      <td>False</td>\n",
              "      <td>False</td>\n",
              "      <td>True</td>\n",
              "      <td>False</td>\n",
              "      <td>False</td>\n",
              "      <td>False</td>\n",
              "      <td>False</td>\n",
              "      <td>False</td>\n",
              "      <td>False</td>\n",
              "      <td>False</td>\n",
              "      <td>False</td>\n",
              "    </tr>\n",
              "    <tr>\n",
              "      <th>1434</th>\n",
              "      <td>False</td>\n",
              "      <td>False</td>\n",
              "      <td>False</td>\n",
              "      <td>False</td>\n",
              "      <td>True</td>\n",
              "      <td>False</td>\n",
              "      <td>False</td>\n",
              "      <td>False</td>\n",
              "      <td>False</td>\n",
              "      <td>False</td>\n",
              "      <td>False</td>\n",
              "    </tr>\n",
              "    <tr>\n",
              "      <th>1435</th>\n",
              "      <td>False</td>\n",
              "      <td>False</td>\n",
              "      <td>False</td>\n",
              "      <td>False</td>\n",
              "      <td>False</td>\n",
              "      <td>False</td>\n",
              "      <td>False</td>\n",
              "      <td>False</td>\n",
              "      <td>False</td>\n",
              "      <td>False</td>\n",
              "      <td>False</td>\n",
              "    </tr>\n",
              "  </tbody>\n",
              "</table>\n",
              "<p>1436 rows × 11 columns</p>\n",
              "</div>"
            ],
            "text/plain": [
              "      Unnamed: 0  Price    Age     KM  ...  Automatic     CC  Doors  Weight\n",
              "0          False  False  False  False  ...      False  False  False   False\n",
              "1          False  False  False  False  ...      False  False  False   False\n",
              "2          False  False  False  False  ...      False  False  False   False\n",
              "3          False  False  False  False  ...      False  False  False   False\n",
              "4          False  False  False  False  ...      False  False  False   False\n",
              "...          ...    ...    ...    ...  ...        ...    ...    ...     ...\n",
              "1431       False  False   True  False  ...      False  False  False   False\n",
              "1432       False  False  False  False  ...      False  False  False   False\n",
              "1433       False  False   True  False  ...      False  False  False   False\n",
              "1434       False  False  False  False  ...      False  False  False   False\n",
              "1435       False  False  False  False  ...      False  False  False   False\n",
              "\n",
              "[1436 rows x 11 columns]"
            ]
          },
          "metadata": {
            "tags": []
          },
          "execution_count": 15
        }
      ]
    },
    {
      "cell_type": "code",
      "metadata": {
        "id": "WTE0pFslsQP1",
        "outputId": "87458468-f3d4-4ea2-d594-ac48c15c746d",
        "colab": {
          "base_uri": "https://localhost:8080/"
        }
      },
      "source": [
        "df.isnull().values.any()"
      ],
      "execution_count": 16,
      "outputs": [
        {
          "output_type": "execute_result",
          "data": {
            "text/plain": [
              "True"
            ]
          },
          "metadata": {
            "tags": []
          },
          "execution_count": 16
        }
      ]
    },
    {
      "cell_type": "code",
      "metadata": {
        "id": "pyM2GopWsjT9",
        "outputId": "3424e688-fe64-4a0d-aac5-572e63f294fd",
        "colab": {
          "base_uri": "https://localhost:8080/"
        }
      },
      "source": [
        "df.notnull().sum()"
      ],
      "execution_count": 17,
      "outputs": [
        {
          "output_type": "execute_result",
          "data": {
            "text/plain": [
              "Unnamed: 0    1436\n",
              "Price         1436\n",
              "Age           1336\n",
              "KM            1436\n",
              "FuelType      1336\n",
              "HP            1436\n",
              "MetColor      1286\n",
              "Automatic     1436\n",
              "CC            1436\n",
              "Doors         1436\n",
              "Weight        1436\n",
              "dtype: int64"
            ]
          },
          "metadata": {
            "tags": []
          },
          "execution_count": 17
        }
      ]
    },
    {
      "cell_type": "code",
      "metadata": {
        "id": "fIT_W35Ds5X5"
      },
      "source": [
        "#1st Method: Removing the tuples which contains the null values.\n",
        "df.dropna(inplace=True)"
      ],
      "execution_count": 18,
      "outputs": []
    },
    {
      "cell_type": "code",
      "metadata": {
        "id": "bcIYE6NKuE5h",
        "outputId": "0e2a0063-118e-4e71-98cb-29b1d44de710",
        "colab": {
          "base_uri": "https://localhost:8080/"
        }
      },
      "source": [
        "df.info()"
      ],
      "execution_count": 19,
      "outputs": [
        {
          "output_type": "stream",
          "text": [
            "<class 'pandas.core.frame.DataFrame'>\n",
            "Int64Index: 1111 entries, 0 to 1435\n",
            "Data columns (total 11 columns):\n",
            " #   Column      Non-Null Count  Dtype  \n",
            "---  ------      --------------  -----  \n",
            " 0   Unnamed: 0  1111 non-null   int64  \n",
            " 1   Price       1111 non-null   int64  \n",
            " 2   Age         1111 non-null   float64\n",
            " 3   KM          1111 non-null   object \n",
            " 4   FuelType    1111 non-null   object \n",
            " 5   HP          1111 non-null   object \n",
            " 6   MetColor    1111 non-null   float64\n",
            " 7   Automatic   1111 non-null   int64  \n",
            " 8   CC          1111 non-null   int64  \n",
            " 9   Doors       1111 non-null   object \n",
            " 10  Weight      1111 non-null   int64  \n",
            "dtypes: float64(2), int64(5), object(4)\n",
            "memory usage: 104.2+ KB\n"
          ],
          "name": "stdout"
        }
      ]
    },
    {
      "cell_type": "code",
      "metadata": {
        "id": "ma3aji7-uMZa",
        "outputId": "2a5eb8dc-7304-4b9e-ce39-b282bdd0244e",
        "colab": {
          "base_uri": "https://localhost:8080/"
        }
      },
      "source": [
        "df.isnull().sum()"
      ],
      "execution_count": 20,
      "outputs": [
        {
          "output_type": "execute_result",
          "data": {
            "text/plain": [
              "Unnamed: 0    0\n",
              "Price         0\n",
              "Age           0\n",
              "KM            0\n",
              "FuelType      0\n",
              "HP            0\n",
              "MetColor      0\n",
              "Automatic     0\n",
              "CC            0\n",
              "Doors         0\n",
              "Weight        0\n",
              "dtype: int64"
            ]
          },
          "metadata": {
            "tags": []
          },
          "execution_count": 20
        }
      ]
    },
    {
      "cell_type": "code",
      "metadata": {
        "id": "dpdgL0QKuUnI",
        "outputId": "93404baf-1b24-481d-d05a-fbe3ce283e55",
        "colab": {
          "base_uri": "https://localhost:8080/",
          "height": 402
        }
      },
      "source": [
        "link=\"https://raw.githubusercontent.com/Anasuya-Sahoo/DMDW-Lab/main/Toyota.csv\"\n",
        "data=pd.read_csv(link)\n",
        "data"
      ],
      "execution_count": 21,
      "outputs": [
        {
          "output_type": "execute_result",
          "data": {
            "text/html": [
              "<div>\n",
              "<style scoped>\n",
              "    .dataframe tbody tr th:only-of-type {\n",
              "        vertical-align: middle;\n",
              "    }\n",
              "\n",
              "    .dataframe tbody tr th {\n",
              "        vertical-align: top;\n",
              "    }\n",
              "\n",
              "    .dataframe thead th {\n",
              "        text-align: right;\n",
              "    }\n",
              "</style>\n",
              "<table border=\"1\" class=\"dataframe\">\n",
              "  <thead>\n",
              "    <tr style=\"text-align: right;\">\n",
              "      <th></th>\n",
              "      <th>Unnamed: 0</th>\n",
              "      <th>Price</th>\n",
              "      <th>Age</th>\n",
              "      <th>KM</th>\n",
              "      <th>FuelType</th>\n",
              "      <th>HP</th>\n",
              "      <th>MetColor</th>\n",
              "      <th>Automatic</th>\n",
              "      <th>CC</th>\n",
              "      <th>Doors</th>\n",
              "      <th>Weight</th>\n",
              "    </tr>\n",
              "  </thead>\n",
              "  <tbody>\n",
              "    <tr>\n",
              "      <th>0</th>\n",
              "      <td>0</td>\n",
              "      <td>13500</td>\n",
              "      <td>23.0</td>\n",
              "      <td>46986</td>\n",
              "      <td>Diesel</td>\n",
              "      <td>90</td>\n",
              "      <td>1.0</td>\n",
              "      <td>0</td>\n",
              "      <td>2000</td>\n",
              "      <td>three</td>\n",
              "      <td>1165</td>\n",
              "    </tr>\n",
              "    <tr>\n",
              "      <th>1</th>\n",
              "      <td>1</td>\n",
              "      <td>13750</td>\n",
              "      <td>23.0</td>\n",
              "      <td>72937</td>\n",
              "      <td>Diesel</td>\n",
              "      <td>90</td>\n",
              "      <td>1.0</td>\n",
              "      <td>0</td>\n",
              "      <td>2000</td>\n",
              "      <td>3</td>\n",
              "      <td>1165</td>\n",
              "    </tr>\n",
              "    <tr>\n",
              "      <th>2</th>\n",
              "      <td>2</td>\n",
              "      <td>13950</td>\n",
              "      <td>24.0</td>\n",
              "      <td>41711</td>\n",
              "      <td>Diesel</td>\n",
              "      <td>90</td>\n",
              "      <td>NaN</td>\n",
              "      <td>0</td>\n",
              "      <td>2000</td>\n",
              "      <td>3</td>\n",
              "      <td>1165</td>\n",
              "    </tr>\n",
              "    <tr>\n",
              "      <th>3</th>\n",
              "      <td>3</td>\n",
              "      <td>14950</td>\n",
              "      <td>26.0</td>\n",
              "      <td>48000</td>\n",
              "      <td>Diesel</td>\n",
              "      <td>90</td>\n",
              "      <td>0.0</td>\n",
              "      <td>0</td>\n",
              "      <td>2000</td>\n",
              "      <td>3</td>\n",
              "      <td>1165</td>\n",
              "    </tr>\n",
              "    <tr>\n",
              "      <th>4</th>\n",
              "      <td>4</td>\n",
              "      <td>13750</td>\n",
              "      <td>30.0</td>\n",
              "      <td>38500</td>\n",
              "      <td>Diesel</td>\n",
              "      <td>90</td>\n",
              "      <td>0.0</td>\n",
              "      <td>0</td>\n",
              "      <td>2000</td>\n",
              "      <td>3</td>\n",
              "      <td>1170</td>\n",
              "    </tr>\n",
              "    <tr>\n",
              "      <th>...</th>\n",
              "      <td>...</td>\n",
              "      <td>...</td>\n",
              "      <td>...</td>\n",
              "      <td>...</td>\n",
              "      <td>...</td>\n",
              "      <td>...</td>\n",
              "      <td>...</td>\n",
              "      <td>...</td>\n",
              "      <td>...</td>\n",
              "      <td>...</td>\n",
              "      <td>...</td>\n",
              "    </tr>\n",
              "    <tr>\n",
              "      <th>1431</th>\n",
              "      <td>1431</td>\n",
              "      <td>7500</td>\n",
              "      <td>NaN</td>\n",
              "      <td>20544</td>\n",
              "      <td>Petrol</td>\n",
              "      <td>86</td>\n",
              "      <td>1.0</td>\n",
              "      <td>0</td>\n",
              "      <td>1300</td>\n",
              "      <td>3</td>\n",
              "      <td>1025</td>\n",
              "    </tr>\n",
              "    <tr>\n",
              "      <th>1432</th>\n",
              "      <td>1432</td>\n",
              "      <td>10845</td>\n",
              "      <td>72.0</td>\n",
              "      <td>??</td>\n",
              "      <td>Petrol</td>\n",
              "      <td>86</td>\n",
              "      <td>0.0</td>\n",
              "      <td>0</td>\n",
              "      <td>1300</td>\n",
              "      <td>3</td>\n",
              "      <td>1015</td>\n",
              "    </tr>\n",
              "    <tr>\n",
              "      <th>1433</th>\n",
              "      <td>1433</td>\n",
              "      <td>8500</td>\n",
              "      <td>NaN</td>\n",
              "      <td>17016</td>\n",
              "      <td>Petrol</td>\n",
              "      <td>86</td>\n",
              "      <td>0.0</td>\n",
              "      <td>0</td>\n",
              "      <td>1300</td>\n",
              "      <td>3</td>\n",
              "      <td>1015</td>\n",
              "    </tr>\n",
              "    <tr>\n",
              "      <th>1434</th>\n",
              "      <td>1434</td>\n",
              "      <td>7250</td>\n",
              "      <td>70.0</td>\n",
              "      <td>??</td>\n",
              "      <td>NaN</td>\n",
              "      <td>86</td>\n",
              "      <td>1.0</td>\n",
              "      <td>0</td>\n",
              "      <td>1300</td>\n",
              "      <td>3</td>\n",
              "      <td>1015</td>\n",
              "    </tr>\n",
              "    <tr>\n",
              "      <th>1435</th>\n",
              "      <td>1435</td>\n",
              "      <td>6950</td>\n",
              "      <td>76.0</td>\n",
              "      <td>1</td>\n",
              "      <td>Petrol</td>\n",
              "      <td>110</td>\n",
              "      <td>0.0</td>\n",
              "      <td>0</td>\n",
              "      <td>1600</td>\n",
              "      <td>5</td>\n",
              "      <td>1114</td>\n",
              "    </tr>\n",
              "  </tbody>\n",
              "</table>\n",
              "<p>1436 rows × 11 columns</p>\n",
              "</div>"
            ],
            "text/plain": [
              "      Unnamed: 0  Price   Age     KM  ... Automatic    CC  Doors  Weight\n",
              "0              0  13500  23.0  46986  ...         0  2000  three    1165\n",
              "1              1  13750  23.0  72937  ...         0  2000      3    1165\n",
              "2              2  13950  24.0  41711  ...         0  2000      3    1165\n",
              "3              3  14950  26.0  48000  ...         0  2000      3    1165\n",
              "4              4  13750  30.0  38500  ...         0  2000      3    1170\n",
              "...          ...    ...   ...    ...  ...       ...   ...    ...     ...\n",
              "1431        1431   7500   NaN  20544  ...         0  1300      3    1025\n",
              "1432        1432  10845  72.0     ??  ...         0  1300      3    1015\n",
              "1433        1433   8500   NaN  17016  ...         0  1300      3    1015\n",
              "1434        1434   7250  70.0     ??  ...         0  1300      3    1015\n",
              "1435        1435   6950  76.0      1  ...         0  1600      5    1114\n",
              "\n",
              "[1436 rows x 11 columns]"
            ]
          },
          "metadata": {
            "tags": []
          },
          "execution_count": 21
        }
      ]
    },
    {
      "cell_type": "markdown",
      "metadata": {
        "id": "q5ZkF-8avDpi"
      },
      "source": [
        "#2nd Method: Replace the NULL values with mean values."
      ]
    },
    {
      "cell_type": "code",
      "metadata": {
        "id": "3Y19pU5hvGgm",
        "outputId": "7109fa6a-d616-4dd0-a3f5-95384fd00287",
        "colab": {
          "base_uri": "https://localhost:8080/"
        }
      },
      "source": [
        "data.isnull().sum()"
      ],
      "execution_count": 22,
      "outputs": [
        {
          "output_type": "execute_result",
          "data": {
            "text/plain": [
              "Unnamed: 0      0\n",
              "Price           0\n",
              "Age           100\n",
              "KM              0\n",
              "FuelType      100\n",
              "HP              0\n",
              "MetColor      150\n",
              "Automatic       0\n",
              "CC              0\n",
              "Doors           0\n",
              "Weight          0\n",
              "dtype: int64"
            ]
          },
          "metadata": {
            "tags": []
          },
          "execution_count": 22
        }
      ]
    },
    {
      "cell_type": "code",
      "metadata": {
        "id": "9NBA-gtDvTh5",
        "outputId": "4ab2837b-554d-4f91-a3c2-1088cd2cf6bd",
        "colab": {
          "base_uri": "https://localhost:8080/"
        }
      },
      "source": [
        "data['MetColor'].mean()"
      ],
      "execution_count": 25,
      "outputs": [
        {
          "output_type": "execute_result",
          "data": {
            "text/plain": [
              "0.6749611197511665"
            ]
          },
          "metadata": {
            "tags": []
          },
          "execution_count": 25
        }
      ]
    },
    {
      "cell_type": "code",
      "metadata": {
        "id": "CBa1xwczvxOY",
        "outputId": "ae012c28-7b85-4042-d617-858e6e46ca8b",
        "colab": {
          "base_uri": "https://localhost:8080/"
        }
      },
      "source": [
        "data['MetColor'].head(10)"
      ],
      "execution_count": 26,
      "outputs": [
        {
          "output_type": "execute_result",
          "data": {
            "text/plain": [
              "0    1.0\n",
              "1    1.0\n",
              "2    NaN\n",
              "3    0.0\n",
              "4    0.0\n",
              "5    0.0\n",
              "6    NaN\n",
              "7    1.0\n",
              "8    0.0\n",
              "9    NaN\n",
              "Name: MetColor, dtype: float64"
            ]
          },
          "metadata": {
            "tags": []
          },
          "execution_count": 26
        }
      ]
    },
    {
      "cell_type": "code",
      "metadata": {
        "id": "xZvqEaanwOTE"
      },
      "source": [
        "import numpy as np"
      ],
      "execution_count": 27,
      "outputs": []
    },
    {
      "cell_type": "code",
      "metadata": {
        "id": "oi41jCNjwCul",
        "outputId": "67087bd0-6909-40ff-ae1b-e70f76241ebb",
        "colab": {
          "base_uri": "https://localhost:8080/"
        }
      },
      "source": [
        "data['MetColor'].replace(np.NaN,data['MetColor'].mean()).head(10)"
      ],
      "execution_count": 29,
      "outputs": [
        {
          "output_type": "execute_result",
          "data": {
            "text/plain": [
              "0    1.000000\n",
              "1    1.000000\n",
              "2    0.674961\n",
              "3    0.000000\n",
              "4    0.000000\n",
              "5    0.000000\n",
              "6    0.674961\n",
              "7    1.000000\n",
              "8    0.000000\n",
              "9    0.674961\n",
              "Name: MetColor, dtype: float64"
            ]
          },
          "metadata": {
            "tags": []
          },
          "execution_count": 29
        }
      ]
    }
  ]
}