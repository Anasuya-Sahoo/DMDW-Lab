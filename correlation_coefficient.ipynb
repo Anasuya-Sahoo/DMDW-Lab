{
  "nbformat": 4,
  "nbformat_minor": 0,
  "metadata": {
    "colab": {
      "name": "correlation coefficient",
      "provenance": [],
      "authorship_tag": "ABX9TyM98/TtfiBCjsf26HOa0Zmv",
      "include_colab_link": true
    },
    "kernelspec": {
      "name": "python3",
      "display_name": "Python 3"
    }
  },
  "cells": [
    {
      "cell_type": "markdown",
      "metadata": {
        "id": "view-in-github",
        "colab_type": "text"
      },
      "source": [
        "<a href=\"https://colab.research.google.com/github/Anasuya-Sahoo/DMDW-Lab/blob/main/correlation_coefficient.ipynb\" target=\"_parent\"><img src=\"https://colab.research.google.com/assets/colab-badge.svg\" alt=\"Open In Colab\"/></a>"
      ]
    },
    {
      "cell_type": "code",
      "metadata": {
        "id": "2iDUHa_vTdLe"
      },
      "source": [
        "import pandas as pd\n",
        "import numpy as np\n",
        "import matplotlib.pyplot as plt\n",
        "import seaborn as sbs\n",
        "get_ipython().run_line_magic('matplotlib', 'inline')\n",
        "plt.style.use('seaborn-whitegrid')\n"
      ],
      "execution_count": 1,
      "outputs": []
    },
    {
      "cell_type": "code",
      "metadata": {
        "colab": {
          "base_uri": "https://localhost:8080/",
          "height": 195
        },
        "id": "SUFcn95kTsne",
        "outputId": "76e0122f-591a-4a2a-b609-0d63863cf699"
      },
      "source": [
        "url=\"https://raw.githubusercontent.com/Anasuya-Sahoo/DMDW-Lab/main/student-mat.csv\"\n",
        "df=pd.read_csv(url)\n",
        "dfn=df[['traveltime','studytime']]\n",
        "dfn.head()\n"
      ],
      "execution_count": 2,
      "outputs": [
        {
          "output_type": "execute_result",
          "data": {
            "text/html": [
              "<div>\n",
              "<style scoped>\n",
              "    .dataframe tbody tr th:only-of-type {\n",
              "        vertical-align: middle;\n",
              "    }\n",
              "\n",
              "    .dataframe tbody tr th {\n",
              "        vertical-align: top;\n",
              "    }\n",
              "\n",
              "    .dataframe thead th {\n",
              "        text-align: right;\n",
              "    }\n",
              "</style>\n",
              "<table border=\"1\" class=\"dataframe\">\n",
              "  <thead>\n",
              "    <tr style=\"text-align: right;\">\n",
              "      <th></th>\n",
              "      <th>traveltime</th>\n",
              "      <th>studytime</th>\n",
              "    </tr>\n",
              "  </thead>\n",
              "  <tbody>\n",
              "    <tr>\n",
              "      <th>0</th>\n",
              "      <td>2</td>\n",
              "      <td>2</td>\n",
              "    </tr>\n",
              "    <tr>\n",
              "      <th>1</th>\n",
              "      <td>1</td>\n",
              "      <td>2</td>\n",
              "    </tr>\n",
              "    <tr>\n",
              "      <th>2</th>\n",
              "      <td>1</td>\n",
              "      <td>2</td>\n",
              "    </tr>\n",
              "    <tr>\n",
              "      <th>3</th>\n",
              "      <td>1</td>\n",
              "      <td>3</td>\n",
              "    </tr>\n",
              "    <tr>\n",
              "      <th>4</th>\n",
              "      <td>1</td>\n",
              "      <td>2</td>\n",
              "    </tr>\n",
              "  </tbody>\n",
              "</table>\n",
              "</div>"
            ],
            "text/plain": [
              "   traveltime  studytime\n",
              "0           2          2\n",
              "1           1          2\n",
              "2           1          2\n",
              "3           1          3\n",
              "4           1          2"
            ]
          },
          "metadata": {
            "tags": []
          },
          "execution_count": 2
        }
      ]
    },
    {
      "cell_type": "code",
      "metadata": {
        "colab": {
          "base_uri": "https://localhost:8080/",
          "height": 330
        },
        "id": "6TyIllKKT3pi",
        "outputId": "b4e39024-a550-43a1-aa59-af6b308f8185"
      },
      "source": [
        "x=dfn['traveltime']\n",
        "y=dfn['studytime']\n",
        "\n",
        "sbs.lineplot(x,y,dashes=True)\n",
        "plt.show()\n"
      ],
      "execution_count": 3,
      "outputs": [
        {
          "output_type": "stream",
          "text": [
            "/usr/local/lib/python3.6/dist-packages/seaborn/_decorators.py:43: FutureWarning: Pass the following variables as keyword args: x, y. From version 0.12, the only valid positional argument will be `data`, and passing other arguments without an explicit keyword will result in an error or misinterpretation.\n",
            "  FutureWarning\n"
          ],
          "name": "stderr"
        },
        {
          "output_type": "display_data",
          "data": {
            "image/png": "[encoded data removed]",
            "text/plain": [
              "<Figure size 432x288 with 1 Axes>"
            ]
          },
          "metadata": {
            "tags": [],
            "needs_background": "light"
          }
        }
      ]
    },
    {
      "cell_type": "code",
      "metadata": {
        "id": "pj5dou__T-dS"
      },
      "source": [
        "from scipy.stats import norm"
      ],
      "execution_count": 4,
      "outputs": []
    },
    {
      "cell_type": "markdown",
      "metadata": {
        "id": "JrJHZMO3UJ-q"
      },
      "source": [
        "**CORELATION ANALYSIS**"
      ]
    },
    {
      "cell_type": "code",
      "metadata": {
        "colab": {
          "base_uri": "https://localhost:8080/"
        },
        "id": "wr8aFdc8UC5X",
        "outputId": "ea96e969-386a-4552-9fe5-4acdb02eb334"
      },
      "source": [
        "corelation=dfn.corr()\n",
        "print(corelation)\n"
      ],
      "execution_count": 5,
      "outputs": [
        {
          "output_type": "stream",
          "text": [
            "            traveltime  studytime\n",
            "traveltime    1.000000  -0.100909\n",
            "studytime    -0.100909   1.000000\n"
          ],
          "name": "stdout"
        }
      ]
    },
    {
      "cell_type": "code",
      "metadata": {
        "colab": {
          "base_uri": "https://localhost:8080/",
          "height": 266
        },
        "id": "YMl08JH_UZnP",
        "outputId": "654775fe-64af-4b23-de24-14a323de27a2"
      },
      "source": [
        "sbs.heatmap(corelation,cmap =\"YlGnBu\")\n",
        "plt.show()\n"
      ],
      "execution_count": 6,
      "outputs": [
        {
          "output_type": "display_data",
          "data": {
            "image/png": "[encoded data removed]",
            "text/plain": [
              "<Figure size 432x288 with 2 Axes>"
            ]
          },
          "metadata": {
            "tags": [],
            "needs_background": "light"
          }
        }
      ]
    },
    {
      "cell_type": "markdown",
      "metadata": {
        "id": "UY8DcHAFUe5I"
      },
      "source": [
        "**COVARIANCE ANALYSIS**"
      ]
    },
    {
      "cell_type": "code",
      "metadata": {
        "colab": {
          "base_uri": "https://localhost:8080/",
          "height": 315
        },
        "id": "n__NKiyvUduD",
        "outputId": "852221fb-3837-4558-c2f2-06ec8591169c"
      },
      "source": [
        "covar=dfn.cov()\n",
        "print(covar)\n",
        "sbs.heatmap(covar,cmap='BuGn_r')\n",
        "plt.show()\n"
      ],
      "execution_count": 7,
      "outputs": [
        {
          "output_type": "stream",
          "text": [
            "            traveltime  studytime\n",
            "traveltime    0.486513  -0.059070\n",
            "studytime    -0.059070   0.704324\n"
          ],
          "name": "stdout"
        },
        {
          "output_type": "display_data",
          "data": {
            "image/png": "[encoded data removed]",
            "text/plain": [
              "<Figure size 432x288 with 2 Axes>"
            ]
          },
          "metadata": {
            "tags": [],
            "needs_background": "light"
          }
        }
      ]
    },
    {
      "cell_type": "markdown",
      "metadata": {
        "id": "KaJpc2doUod1"
      },
      "source": [
        "\n",
        "**CHI SQUARE TEST**\n"
      ]
    },
    {
      "cell_type": "code",
      "metadata": {
        "colab": {
          "base_uri": "https://localhost:8080/"
        },
        "id": "bT6ry0HSUvlj",
        "outputId": "bc818c0b-ff09-4fa2-eb32-c4fa1e35d2e9"
      },
      "source": [
        "dfnom=df[['Mjob','Fjob']]\n",
        "dfnom.head()\n",
        "dfnom=dfnom.replace('at_home','home')\n",
        "dfnom=dfnom.astype('category')\n",
        "dfnom.info()\n"
      ],
      "execution_count": 8,
      "outputs": [
        {
          "output_type": "stream",
          "text": [
            "<class 'pandas.core.frame.DataFrame'>\n",
            "RangeIndex: 395 entries, 0 to 394\n",
            "Data columns (total 2 columns):\n",
            " #   Column  Non-Null Count  Dtype   \n",
            "---  ------  --------------  -----   \n",
            " 0   Mjob    395 non-null    category\n",
            " 1   Fjob    395 non-null    category\n",
            "dtypes: category(2)\n",
            "memory usage: 1.3 KB\n"
          ],
          "name": "stdout"
        }
      ]
    },
    {
      "cell_type": "code",
      "metadata": {
        "id": "phJPMds6U1U-"
      },
      "source": [
        "from sklearn.preprocessing import LabelEncoder\n",
        "lb=LabelEncoder()\n",
        "dfnom['Mjob']=lb.fit_transform(dfnom['Mjob'])\n",
        "dfnom['Fjob']=lb.fit_transform(dfnom['Fjob'])\n",
        "dfnom=np.array(dfnom)\n",
        "dfnom=dfnom[dfnom!=0]\n"
      ],
      "execution_count": 9,
      "outputs": []
    },
    {
      "cell_type": "code",
      "metadata": {
        "colab": {
          "base_uri": "https://localhost:8080/"
        },
        "id": "W8hC3vAyU8Np",
        "outputId": "48ac5162-84a8-40cf-ee17-a5660971d1f9"
      },
      "source": [
        "from scipy.stats import chi2_contingency\n",
        "stat, p, dof, expected = chi2_contingency(dfnom)\n",
        "\n",
        "print(stat)\n"
      ],
      "execution_count": 10,
      "outputs": [
        {
          "output_type": "stream",
          "text": [
            "0.0\n"
          ],
          "name": "stdout"
        }
      ]
    },
    {
      "cell_type": "code",
      "metadata": {
        "colab": {
          "base_uri": "https://localhost:8080/"
        },
        "id": "LwdJuZhOVDL3",
        "outputId": "e4e51ccf-b375-47e5-eb81-e00e59eb8ba5"
      },
      "source": [
        "print(p)\n",
        "\n"
      ],
      "execution_count": 11,
      "outputs": [
        {
          "output_type": "stream",
          "text": [
            "1.0\n"
          ],
          "name": "stdout"
        }
      ]
    },
    {
      "cell_type": "code",
      "metadata": {
        "id": "BDGJiJ0fVLM8"
      },
      "source": [
        "print(dof)\n"
      ],
      "execution_count": null,
      "outputs": []
    },
    {
      "cell_type": "code",
      "metadata": {
        "colab": {
          "base_uri": "https://localhost:8080/"
        },
        "id": "vHW0tQ-jVNTK",
        "outputId": "65fb2224-4818-4c1f-b0f9-108a58875ca7"
      },
      "source": [
        "print(expected.shape)\n",
        "\n"
      ],
      "execution_count": 12,
      "outputs": [
        {
          "output_type": "stream",
          "text": [
            "(738,)\n"
          ],
          "name": "stdout"
        }
      ]
    },
    {
      "cell_type": "code",
      "metadata": {
        "id": "jkSaEoe2VbYi"
      },
      "source": [
        ""
      ],
      "execution_count": null,
      "outputs": []
    }
  ]
}